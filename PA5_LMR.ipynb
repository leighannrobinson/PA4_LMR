{
 "cells": [
  {
   "cell_type": "markdown",
   "id": "e5b0bacb",
   "metadata": {},
   "source": [
    "# Programming Assignment 4\n",
    "## Leighann Robinson \n",
    "### Version 1\n",
    "#### CS-150 FA 22"
   ]
  },
  {
   "cell_type": "markdown",
   "id": "1b3f592c",
   "metadata": {},
   "source": [
    "# part a "
   ]
  },
  {
   "cell_type": "code",
   "execution_count": 1,
   "id": "029398e1",
   "metadata": {},
   "outputs": [
    {
     "name": "stdout",
     "output_type": "stream",
     "text": [
      "{'dog': 'chien', 'cat': 'chat', 'house': 'maison', 'girl': 'fille', 'boy': 'garcon', 'mom': 'maman', 'dad': 'papa', 'apple': 'pomme', 'bed': 'lit', 'good': 'bien', 'potato': 'pomme de terre', 'chair': 'chaise', 'face': 'visage', 'water': 'eau', 'school': 'ecole', 'whiteboard': 'tableau blanc', 'computer': 'ordinateur', 'bird': 'oiseau', 'fish': 'poisson', 'car': 'voiture'}\n"
     ]
    }
   ],
   "source": [
    "language={'dog':'chien',\n",
    "          'cat':'chat',\n",
    "          'house':'maison',\n",
    "          'girl':'fille',\n",
    "          'boy':'garcon',\n",
    "          'mom':'maman',\n",
    "          'dad':'papa',\n",
    "          'apple':'pomme',\n",
    "          'bed':'lit',\n",
    "          'good':'bien',\n",
    "          'potato':'pomme de terre',\n",
    "          'chair':'chaise',\n",
    "          'face':'visage',\n",
    "          'water':'eau',\n",
    "          'school':'ecole',\n",
    "          'whiteboard':'tableau blanc',\n",
    "          'computer':'ordinateur',\n",
    "          'bird':'oiseau',\n",
    "          'fish':'poisson',\n",
    "          'car':'voiture'\n",
    "         }\n",
    "print(language)"
   ]
  },
  {
   "cell_type": "code",
   "execution_count": 2,
   "id": "b1c79269",
   "metadata": {},
   "outputs": [
    {
     "name": "stdout",
     "output_type": "stream",
     "text": [
      "Enter a word to translate from English to French (enter 0 to stop): bed\n",
      "The French word for  bed  is  lit\n",
      "Enter a word to translate from English to French (enter 0 to stop): school\n",
      "The French word for  school  is  ecole\n",
      "Enter a word to translate from English to French (enter 0 to stop): fish\n",
      "The French word for  fish  is  poisson\n",
      "Enter a word to translate from English to French (enter 0 to stop): couch\n",
      "The French word for  couch  is not in this dictionary\n",
      "Enter a word to translate from English to French (enter 0 to stop): lamp\n",
      "The French word for  lamp  is not in this dictionary\n",
      "Enter a word to translate from English to French (enter 0 to stop): 0\n"
     ]
    }
   ],
   "source": [
    "prompt=\"Enter a word to translate from English to French (enter 0 to stop): \"\n",
    "word=' '\n",
    "active= True\n",
    "while active:\n",
    "    word=input(prompt)\n",
    "    if word=='0':\n",
    "        active= False \n",
    "    elif word in language.keys():\n",
    "        print(\"The French word for \",word,\" is \",language[word])\n",
    "    else:\n",
    "        print(\"The French word for \",word,\" is not in this dictionary\")"
   ]
  },
  {
   "cell_type": "markdown",
   "id": "a0007db1",
   "metadata": {},
   "source": [
    "# part b "
   ]
  },
  {
   "cell_type": "code",
   "execution_count": 3,
   "id": "c405f918",
   "metadata": {},
   "outputs": [
    {
     "name": "stdout",
     "output_type": "stream",
     "text": [
      "{1: 84, 2: 86, 3: 82, 4: 81, 5: 79, 6: 79, 7: 81, 8: 81, 9: 84, 10: 82, 11: 77, 12: 73, 13: 73, 14: 79, 15: 82, 16: 84, 17: 84, 18: 84, 19: 84, 20: 88, 21: 95, 22: 73, 23: 68, 24: 77, 25: 77, 26: 70, 27: 64, 28: 66, 29: 72, 30: 70}\n"
     ]
    }
   ],
   "source": [
    "weather={ 1 : 84,\n",
    "        2 : 86,\n",
    "        3 : 82,\n",
    "        4 : 81,\n",
    "        5 : 79,\n",
    "        6 : 79,\n",
    "        7 : 81,\n",
    "        8 : 81,\n",
    "        9 : 84,\n",
    "        10 : 82,\n",
    "        11 : 77,\n",
    "        12 : 73,\n",
    "        13 : 73,\n",
    "        14 : 79,\n",
    "        15 : 82,\n",
    "        16 : 84,\n",
    "        17 : 84,\n",
    "        18 : 84,\n",
    "        19 : 84,\n",
    "        20 : 88,\n",
    "        21 : 95,\n",
    "        22 : 73,\n",
    "        23 : 68,\n",
    "        24 : 77,\n",
    "        25 : 77,\n",
    "        26 : 70,\n",
    "        27 : 64,\n",
    "        28 : 66,\n",
    "        29 : 72,\n",
    "        30 : 70}\n",
    "print(weather)"
   ]
  },
  {
   "cell_type": "code",
   "execution_count": 4,
   "id": "82bf6277",
   "metadata": {},
   "outputs": [
    {
     "name": "stdout",
     "output_type": "stream",
     "text": [
      "[84, 86, 82, 81, 79, 79, 81, 81, 84, 82, 77, 73, 73, 79, 82, 84, 84, 84, 84, 88, 95, 73, 68, 77, 77, 70, 64, 66, 72, 70]\n"
     ]
    }
   ],
   "source": [
    "Fahr=list(weather.values())\n",
    "print(Fahr)"
   ]
  },
  {
   "cell_type": "code",
   "execution_count": 5,
   "id": "6feec780",
   "metadata": {},
   "outputs": [
    {
     "name": "stdout",
     "output_type": "stream",
     "text": [
      "28.88888888888889\n",
      "30.0\n",
      "27.77777777777778\n",
      "27.22222222222222\n",
      "26.11111111111111\n",
      "26.11111111111111\n",
      "27.22222222222222\n",
      "27.22222222222222\n",
      "28.88888888888889\n",
      "27.77777777777778\n",
      "25.0\n",
      "22.77777777777778\n",
      "22.77777777777778\n",
      "26.11111111111111\n",
      "27.77777777777778\n",
      "28.88888888888889\n",
      "28.88888888888889\n",
      "28.88888888888889\n",
      "28.88888888888889\n",
      "31.11111111111111\n",
      "35.0\n",
      "22.77777777777778\n",
      "20.0\n",
      "25.0\n",
      "25.0\n",
      "21.11111111111111\n",
      "17.77777777777778\n",
      "18.88888888888889\n",
      "22.22222222222222\n",
      "21.11111111111111\n",
      "[28.88888888888889, 30.0, 27.77777777777778, 27.22222222222222, 26.11111111111111, 26.11111111111111, 27.22222222222222, 27.22222222222222, 28.88888888888889, 27.77777777777778, 25.0, 22.77777777777778, 22.77777777777778, 26.11111111111111, 27.77777777777778, 28.88888888888889, 28.88888888888889, 28.88888888888889, 28.88888888888889, 31.11111111111111, 35.0, 22.77777777777778, 20.0, 25.0, 25.0, 21.11111111111111, 17.77777777777778, 18.88888888888889, 22.22222222222222, 21.11111111111111]\n"
     ]
    }
   ],
   "source": [
    "Cels=[]\n",
    "for i in Fahr:\n",
    "    if i>0:\n",
    "        i=(i-32)/1.8\n",
    "        print(i)\n",
    "        Cels.append(i)\n",
    "print(Cels)"
   ]
  },
  {
   "cell_type": "code",
   "execution_count": 6,
   "id": "5acfe665",
   "metadata": {},
   "outputs": [
    {
     "data": {
      "text/plain": [
       "{1: 28.88888888888889,\n",
       " 2: 30.0,\n",
       " 3: 27.77777777777778,\n",
       " 4: 27.22222222222222,\n",
       " 5: 26.11111111111111,\n",
       " 6: 26.11111111111111,\n",
       " 7: 27.22222222222222,\n",
       " 8: 27.22222222222222,\n",
       " 9: 28.88888888888889,\n",
       " 10: 27.77777777777778,\n",
       " 11: 25.0,\n",
       " 12: 22.77777777777778,\n",
       " 13: 22.77777777777778,\n",
       " 14: 26.11111111111111,\n",
       " 15: 27.77777777777778,\n",
       " 16: 28.88888888888889,\n",
       " 17: 28.88888888888889,\n",
       " 18: 28.88888888888889,\n",
       " 19: 28.88888888888889,\n",
       " 20: 31.11111111111111,\n",
       " 21: 35.0,\n",
       " 22: 22.77777777777778,\n",
       " 23: 20.0,\n",
       " 24: 25.0,\n",
       " 25: 25.0,\n",
       " 26: 21.11111111111111,\n",
       " 27: 17.77777777777778,\n",
       " 28: 18.88888888888889,\n",
       " 29: 22.22222222222222,\n",
       " 30: 21.11111111111111}"
      ]
     },
     "execution_count": 6,
     "metadata": {},
     "output_type": "execute_result"
    }
   ],
   "source": [
    "keys = weather.keys()\n",
    "values = Cels\n",
    "dict(zip(keys,values))"
   ]
  },
  {
   "cell_type": "markdown",
   "id": "e6f56642",
   "metadata": {},
   "source": [
    "# part c"
   ]
  },
  {
   "cell_type": "code",
   "execution_count": 7,
   "id": "f2aef5f2",
   "metadata": {},
   "outputs": [
    {
     "name": "stdout",
     "output_type": "stream",
     "text": [
      "{1: 1, 2: 4, 3: 9, 4: 16, 5: 25, 6: 36, 7: 49, 8: 64, 9: 81, 10: 100, 11: 121, 12: 144, 13: 169, 14: 196, 15: 225}\n"
     ]
    }
   ],
   "source": [
    "numbers=dict()\n",
    "for x in range(1,16):\n",
    "    numbers[x]=x**2\n",
    "print(numbers) "
   ]
  }
 ],
 "metadata": {
  "kernelspec": {
   "display_name": "Python 3 (ipykernel)",
   "language": "python",
   "name": "python3"
  },
  "language_info": {
   "codemirror_mode": {
    "name": "ipython",
    "version": 3
   },
   "file_extension": ".py",
   "mimetype": "text/x-python",
   "name": "python",
   "nbconvert_exporter": "python",
   "pygments_lexer": "ipython3",
   "version": "3.9.12"
  }
 },
 "nbformat": 4,
 "nbformat_minor": 5
}
